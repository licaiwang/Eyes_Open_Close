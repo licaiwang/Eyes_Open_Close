{
 "cells": [
  {
   "cell_type": "code",
   "execution_count": 1,
   "id": "generous-privilege",
   "metadata": {},
   "outputs": [],
   "source": [
    "import os\n",
    "import cv2\n",
    "import numpy as np"
   ]
  },
  {
   "cell_type": "code",
   "execution_count": 2,
   "id": "neural-kingdom",
   "metadata": {},
   "outputs": [
    {
     "data": {
      "text/plain": [
       "1231"
      ]
     },
     "execution_count": 2,
     "metadata": {},
     "output_type": "execute_result"
    }
   ],
   "source": [
    "open_pic_path = next(os.walk(\"img/OpenFace\"))[2]\n",
    "open_pic_path = [x for x in open_pic_path if \".jpg\" in x]\n",
    "len(open_pic_path)"
   ]
  },
  {
   "cell_type": "code",
   "execution_count": 3,
   "id": "driving-triumph",
   "metadata": {},
   "outputs": [
    {
     "data": {
      "text/plain": [
       "1192"
      ]
     },
     "execution_count": 3,
     "metadata": {},
     "output_type": "execute_result"
    }
   ],
   "source": [
    "close_pic_path = next(os.walk(\"img/ClosedFace\"))[2]\n",
    "close_pic_path = [x for x in close_pic_path if \".jpg\" in x]\n",
    "len(close_pic_path)"
   ]
  },
  {
   "cell_type": "code",
   "execution_count": 4,
   "id": "latest-picnic",
   "metadata": {},
   "outputs": [],
   "source": [
    "train_open_pic_path = open_pic_path[:1181]\n",
    "train_close_pic_path = close_pic_path[:1142]\n",
    "test_open_pic_path = open_pic_path[1181:]\n",
    "test_close_pic_path = close_pic_path[1142:]"
   ]
  },
  {
   "cell_type": "code",
   "execution_count": 5,
   "id": "recorded-declaration",
   "metadata": {},
   "outputs": [],
   "source": [
    "train_picture_path = train_open_pic_path+ train_close_pic_path\n",
    "test_picture_path = test_open_pic_path + test_close_pic_path"
   ]
  },
  {
   "cell_type": "code",
   "execution_count": 6,
   "id": "phantom-arlington",
   "metadata": {},
   "outputs": [],
   "source": [
    "from tensorflow.keras.models import load_model\n",
    "import torchvision.transforms.functional as TF\n",
    "import torch"
   ]
  },
  {
   "cell_type": "code",
   "execution_count": 7,
   "id": "addressed-indiana",
   "metadata": {},
   "outputs": [],
   "source": [
    "def preprocess_image(image):\n",
    "    image = TF.to_pil_image(image)\n",
    "    image = TF.resize(image, (128, 128))\n",
    "    image = TF.to_tensor(image)\n",
    "    image = (image - image.min())/(image.max() - image.min())\n",
    "    image = (2 * image) - 1\n",
    "    image = torch.transpose(image,0,2).detach().numpy()\n",
    "    return image"
   ]
  },
  {
   "cell_type": "markdown",
   "id": "elegant-intranet",
   "metadata": {},
   "source": [
    "## Open = 1\n",
    "## Closed = 0"
   ]
  },
  {
   "cell_type": "code",
   "execution_count": 8,
   "id": "scheduled-wheel",
   "metadata": {},
   "outputs": [],
   "source": [
    "def generate_combine_data(pp_):\n",
    "    X = []\n",
    "    Y = []\n",
    "    for path in pp_:\n",
    "        if \"closed\" in path:\n",
    "            img = cv2.imread(f\"img/ClosedFace/{path}\")\n",
    "            Y.append(0)\n",
    "        else:\n",
    "            img = cv2.imread(f\"img/OpenFace/{path}\")    \n",
    "            Y.append(1)\n",
    "        img = cv2.cvtColor(img, cv2.COLOR_RGB2GRAY)\n",
    "        preprocessed_image = preprocess_image(img)\n",
    "        X.append(preprocessed_image)\n",
    "    return np.array(X),np.array(Y)"
   ]
  },
  {
   "cell_type": "code",
   "execution_count": 9,
   "id": "lightweight-subcommittee",
   "metadata": {},
   "outputs": [],
   "source": [
    "train_inputs,train_labels = generate_combine_data(train_picture_path)\n",
    "test_inputs,test_labels = generate_combine_data(test_picture_path)"
   ]
  },
  {
   "cell_type": "code",
   "execution_count": 10,
   "id": "widespread-palmer",
   "metadata": {},
   "outputs": [],
   "source": [
    "from tensorflow.keras.layers import Flatten,Dense,Conv2D,MaxPooling2D,Activation\n",
    "from tensorflow.keras import Sequential\n",
    "from tensorflow.keras.losses import SparseCategoricalCrossentropy"
   ]
  },
  {
   "cell_type": "code",
   "execution_count": 11,
   "id": "banned-clause",
   "metadata": {},
   "outputs": [],
   "source": [
    "model = Sequential([\n",
    "        Conv2D(128,3,padding=\"same\",input_shape=(128,128,1)),\n",
    "        Activation('relu'),\n",
    "        MaxPooling2D(pool_size=(2, 2),padding=\"same\"),\n",
    "        Conv2D(64,3,padding=\"same\"),\n",
    "        Activation('relu'),\n",
    "        MaxPooling2D(pool_size=(2, 2),padding=\"same\"),\n",
    "        Conv2D(32,3,padding=\"same\"),\n",
    "        Activation('relu'),\n",
    "        Conv2D(16,3,padding=\"same\"),\n",
    "        Activation('relu'),\n",
    "        Conv2D(8,3,padding=\"same\"),\n",
    "        Activation('relu'),\n",
    "        Flatten(),\n",
    "        Dense(2)\n",
    "])"
   ]
  },
  {
   "cell_type": "code",
   "execution_count": 12,
   "id": "handy-favorite",
   "metadata": {},
   "outputs": [],
   "source": [
    "model.compile(\n",
    "              optimizer = 'adam',\n",
    "              loss = SparseCategoricalCrossentropy(from_logits=True),\n",
    "              metrics = ['accuracy'],\n",
    "             )"
   ]
  },
  {
   "cell_type": "code",
   "execution_count": 13,
   "id": "fiscal-nicaragua",
   "metadata": {
    "scrolled": true,
    "tags": []
   },
   "outputs": [
    {
     "name": "stdout",
     "output_type": "stream",
     "text": [
      "Epoch 1/25\n",
      "66/66 [==============================] - 5s 32ms/step - loss: 0.6343 - accuracy: 0.6423 - val_loss: 0.7632 - val_accuracy: 0.6094\n",
      "Epoch 2/25\n",
      "66/66 [==============================] - 1s 22ms/step - loss: 0.4031 - accuracy: 0.8236 - val_loss: 0.3173 - val_accuracy: 0.8498\n",
      "Epoch 3/25\n",
      "66/66 [==============================] - 1s 21ms/step - loss: 0.3526 - accuracy: 0.8590 - val_loss: 0.2894 - val_accuracy: 0.8584\n",
      "Epoch 4/25\n",
      "66/66 [==============================] - 1s 21ms/step - loss: 0.2389 - accuracy: 0.9112 - val_loss: 0.8298 - val_accuracy: 0.6781\n",
      "Epoch 5/25\n",
      "66/66 [==============================] - 1s 21ms/step - loss: 0.1830 - accuracy: 0.9262 - val_loss: 0.3410 - val_accuracy: 0.8670\n",
      "Epoch 6/25\n",
      "66/66 [==============================] - 1s 21ms/step - loss: 0.1100 - accuracy: 0.9596 - val_loss: 0.2412 - val_accuracy: 0.9013\n",
      "Epoch 7/25\n",
      "66/66 [==============================] - 1s 21ms/step - loss: 0.0825 - accuracy: 0.9673 - val_loss: 0.4558 - val_accuracy: 0.8712\n",
      "Epoch 8/25\n",
      "66/66 [==============================] - 1s 21ms/step - loss: 0.0595 - accuracy: 0.9787 - val_loss: 0.2939 - val_accuracy: 0.9056\n",
      "Epoch 9/25\n",
      "66/66 [==============================] - 1s 22ms/step - loss: 0.0459 - accuracy: 0.9836 - val_loss: 0.5559 - val_accuracy: 0.8455\n",
      "Epoch 10/25\n",
      "66/66 [==============================] - 1s 22ms/step - loss: 0.0402 - accuracy: 0.9836 - val_loss: 0.5339 - val_accuracy: 0.8755\n",
      "Epoch 11/25\n",
      "66/66 [==============================] - 1s 21ms/step - loss: 0.0187 - accuracy: 0.9919 - val_loss: 0.8504 - val_accuracy: 0.8197\n",
      "Epoch 12/25\n",
      "66/66 [==============================] - 1s 22ms/step - loss: 0.0224 - accuracy: 0.9938 - val_loss: 0.3671 - val_accuracy: 0.9099\n",
      "Epoch 13/25\n",
      "66/66 [==============================] - 1s 22ms/step - loss: 0.0205 - accuracy: 0.9953 - val_loss: 0.6229 - val_accuracy: 0.8798\n",
      "Epoch 14/25\n",
      "66/66 [==============================] - 1s 21ms/step - loss: 0.0084 - accuracy: 0.9974 - val_loss: 0.2337 - val_accuracy: 0.9571\n",
      "Epoch 15/25\n",
      "66/66 [==============================] - 1s 21ms/step - loss: 0.0408 - accuracy: 0.9819 - val_loss: 0.8054 - val_accuracy: 0.8541\n",
      "Epoch 16/25\n",
      "66/66 [==============================] - 1s 21ms/step - loss: 0.0145 - accuracy: 0.9955 - val_loss: 0.7459 - val_accuracy: 0.8670\n",
      "Epoch 17/25\n",
      "66/66 [==============================] - 1s 21ms/step - loss: 0.0011 - accuracy: 1.0000 - val_loss: 0.9287 - val_accuracy: 0.8670 accuracy: \n",
      "Epoch 18/25\n",
      "66/66 [==============================] - 1s 21ms/step - loss: 5.0187e-04 - accuracy: 1.0000 - val_loss: 0.6731 - val_accuracy: 0.8884\n",
      "Epoch 19/25\n",
      "66/66 [==============================] - 1s 21ms/step - loss: 2.4323e-04 - accuracy: 1.0000 - val_loss: 0.8107 - val_accuracy: 0.8755\n",
      "Epoch 20/25\n",
      "66/66 [==============================] - 1s 21ms/step - loss: 1.4331e-04 - accuracy: 1.0000 - val_loss: 0.7899 - val_accuracy: 0.8841\n",
      "Epoch 21/25\n",
      "66/66 [==============================] - 1s 21ms/step - loss: 1.0636e-04 - accuracy: 1.0000 - val_loss: 0.8441 - val_accuracy: 0.8755\n",
      "Epoch 22/25\n",
      "66/66 [==============================] - 1s 21ms/step - loss: 1.0556e-04 - accuracy: 1.0000 - val_loss: 0.8802 - val_accuracy: 0.8755\n",
      "Epoch 23/25\n",
      "66/66 [==============================] - 1s 21ms/step - loss: 9.5691e-05 - accuracy: 1.0000 - val_loss: 0.8839 - val_accuracy: 0.8755\n",
      "Epoch 24/25\n",
      "66/66 [==============================] - 1s 21ms/step - loss: 6.9869e-05 - accuracy: 1.0000 - val_loss: 0.8823 - val_accuracy: 0.8755\n",
      "Epoch 25/25\n",
      "66/66 [==============================] - 1s 21ms/step - loss: 6.8254e-05 - accuracy: 1.0000 - val_loss: 0.9058 - val_accuracy: 0.8755\n"
     ]
    },
    {
     "data": {
      "text/plain": [
       "<tensorflow.python.keras.callbacks.History at 0x1969e4fd2c8>"
      ]
     },
     "execution_count": 13,
     "metadata": {},
     "output_type": "execute_result"
    }
   ],
   "source": [
    "model.fit(train_inputs, train_labels, epochs=25,  validation_split = 0.1)"
   ]
  },
  {
   "cell_type": "code",
   "execution_count": 14,
   "id": "pursuant-baseball",
   "metadata": {},
   "outputs": [],
   "source": [
    "model.save(\"open_close_baseline.h5\")"
   ]
  },
  {
   "cell_type": "code",
   "execution_count": 15,
   "id": "conditional-speed",
   "metadata": {},
   "outputs": [],
   "source": [
    "def get_confusion(inputs,labels):\n",
    "    TP = 0\n",
    "    FN = 0\n",
    "    TN = 0\n",
    "    FP = 0\n",
    "    for inp,label in zip(inputs,labels):\n",
    "        predict = np.array(model.predict(np.expand_dims(inp,0))[0])\n",
    "        predict = np.argmax(predict)\n",
    "        if label ==1 and predict == label:\n",
    "            TP += 1\n",
    "        if label ==1 and predict != label:\n",
    "            FN += 1\n",
    "        if label ==0 and predict == label:\n",
    "            TN += 1\n",
    "        if label ==0 and predict != label:\n",
    "            FP += 1\n",
    "    ACC = (TP+TN) / (TP+FP+FN+TN)\n",
    "    PRECISION = TP / (TP+FP)\n",
    "    RECALL = TP / (TP+FN)\n",
    "    F1_SCORE = 2/((1/PRECISION) + (1/RECALL))\n",
    "    return ACC,PRECISION,RECALL,F1_SCORE"
   ]
  },
  {
   "cell_type": "code",
   "execution_count": 16,
   "id": "outstanding-deviation",
   "metadata": {},
   "outputs": [],
   "source": [
    "ACC,PRECISION,RECALL,F1_SCORE = get_confusion(train_inputs,train_labels)"
   ]
  },
  {
   "cell_type": "code",
   "execution_count": 17,
   "id": "valued-westminster",
   "metadata": {},
   "outputs": [
    {
     "name": "stdout",
     "output_type": "stream",
     "text": [
      "Train ACC --- 0.9875161429186397\n",
      "Train PRECISION --- 0.9760330578512396\n",
      "Train RECALL --- 1.0\n",
      "Train F1_SCORE --- 0.9878711836051862\n"
     ]
    }
   ],
   "source": [
    "print(f\"Train ACC --- {ACC}\")\n",
    "print(f\"Train PRECISION --- {PRECISION}\")\n",
    "print(f\"Train RECALL --- {RECALL}\")\n",
    "print(f\"Train F1_SCORE --- {F1_SCORE}\")"
   ]
  },
  {
   "cell_type": "code",
   "execution_count": 18,
   "id": "honey-technique",
   "metadata": {},
   "outputs": [],
   "source": [
    "ACC,PRECISION,RECALL,F1_SCORE = get_confusion(test_inputs,test_labels)"
   ]
  },
  {
   "cell_type": "code",
   "execution_count": 19,
   "id": "rolled-challenge",
   "metadata": {},
   "outputs": [
    {
     "name": "stdout",
     "output_type": "stream",
     "text": [
      "Test ACC --- 0.93\n",
      "Test PRECISION --- 0.9574468085106383\n",
      "Test RECALL --- 0.9\n",
      "Test F1_SCORE --- 0.9278350515463918\n"
     ]
    }
   ],
   "source": [
    "print(f\"Test ACC --- {ACC}\")\n",
    "print(f\"Test PRECISION --- {PRECISION}\")\n",
    "print(f\"Test RECALL --- {RECALL}\")\n",
    "print(f\"Test F1_SCORE --- {F1_SCORE}\")"
   ]
  }
 ],
 "metadata": {
  "kernelspec": {
   "display_name": "Python 3",
   "language": "python",
   "name": "python3"
  },
  "language_info": {
   "codemirror_mode": {
    "name": "ipython",
    "version": 3
   },
   "file_extension": ".py",
   "mimetype": "text/x-python",
   "name": "python",
   "nbconvert_exporter": "python",
   "pygments_lexer": "ipython3",
   "version": "3.7.9"
  }
 },
 "nbformat": 4,
 "nbformat_minor": 5
}
